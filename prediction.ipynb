{
 "cells": [
  {
   "cell_type": "code",
   "execution_count": 3,
   "metadata": {},
   "outputs": [
    {
     "name": "stdout",
     "output_type": "stream",
     "text": [
      "WARNING:tensorflow:From c:\\Users\\ancar\\Documents\\Courses\\T3\\AML-3104_NeuralNetworksDeepLearning-Fri\\Week-10\\Assignment_4_ANN\\venv\\Lib\\site-packages\\keras\\src\\losses.py:2976: The name tf.losses.sparse_softmax_cross_entropy is deprecated. Please use tf.compat.v1.losses.sparse_softmax_cross_entropy instead.\n",
      "\n"
     ]
    }
   ],
   "source": [
    "# Load libraries\n",
    "import pandas as pd\n",
    "import pickle\n",
    "import numpy as np\n",
    "import tensorflow as tf\n",
    "from tensorflow.keras.models import load_model\n",
    "import warnings\n",
    "warnings.filterwarnings('ignore')"
   ]
  },
  {
   "cell_type": "code",
   "execution_count": 5,
   "metadata": {},
   "outputs": [
    {
     "name": "stdout",
     "output_type": "stream",
     "text": [
      "WARNING:tensorflow:From c:\\Users\\ancar\\Documents\\Courses\\T3\\AML-3104_NeuralNetworksDeepLearning-Fri\\Week-10\\Assignment_4_ANN\\venv\\Lib\\site-packages\\keras\\src\\backend.py:1398: The name tf.executing_eagerly_outside_functions is deprecated. Please use tf.compat.v1.executing_eagerly_outside_functions instead.\n",
      "\n"
     ]
    }
   ],
   "source": [
    "# Loading pre-built models\n",
    "\n",
    "# Define file paths\n",
    "ann_mdl = load_model('ann_mdl.h5')\n",
    "scaler_variables = pickle.load(open('scaler_variables.pkl','rb'))\n"
   ]
  },
  {
   "cell_type": "code",
   "execution_count": 7,
   "metadata": {},
   "outputs": [],
   "source": [
    "data = {\n",
    "    'radius_mean': 19.69,\n",
    "    'texture_mean': 21.25,\n",
    "    'perimeter_mean': 123.45,\n",
    "    'area_mean': 1203,\n",
    "    'smoothness_mean': 0.10960,\n",
    "    'compactness_mean': 0.15990,\n",
    "    'concavity_mean': 0.08690,\n",
    "    'concave_points_mean': 0.03720,\n",
    "    'symmetry_mean': 0.20500,\n",
    "    'fractal_dimension_mean': 0.06300,\n",
    "    'radius_se': 1.797,\n",
    "    'texture_se': 1.586,\n",
    "    'perimeter_se': 10.83,\n",
    "    'area_se': 207.90,\n",
    "    'smoothness_se': 0.00737,\n",
    "    'compactness_se': 0.02806,\n",
    "    'concavity_se': 0.03190,\n",
    "    'concave_points_se': 0.00710,\n",
    "    'symmetry_se': 0.01987,\n",
    "    'fractal_dimension_se': 0.00359,\n",
    "    'radius_worst': 25.38,\n",
    "    'texture_worst': 30.37,\n",
    "    'perimeter_worst': 184.6,\n",
    "    'area_worst': 2019,\n",
    "    'smoothness_worst': 0.16360,\n",
    "    'compactness_worst': 0.34540,\n",
    "    'concavity_worst': 0.40000,\n",
    "    'concave_points_worst': 0.15200,\n",
    "    'symmetry_worst': 0.66380,\n",
    "    'fractal_dimension_worst': 0.11890\n",
    " }"
   ]
  },
  {
   "cell_type": "code",
   "execution_count": 8,
   "metadata": {},
   "outputs": [
    {
     "data": {
      "text/html": [
       "<div>\n",
       "<style scoped>\n",
       "    .dataframe tbody tr th:only-of-type {\n",
       "        vertical-align: middle;\n",
       "    }\n",
       "\n",
       "    .dataframe tbody tr th {\n",
       "        vertical-align: top;\n",
       "    }\n",
       "\n",
       "    .dataframe thead th {\n",
       "        text-align: right;\n",
       "    }\n",
       "</style>\n",
       "<table border=\"1\" class=\"dataframe\">\n",
       "  <thead>\n",
       "    <tr style=\"text-align: right;\">\n",
       "      <th></th>\n",
       "      <th>radius_mean</th>\n",
       "      <th>texture_mean</th>\n",
       "      <th>perimeter_mean</th>\n",
       "      <th>area_mean</th>\n",
       "      <th>smoothness_mean</th>\n",
       "      <th>compactness_mean</th>\n",
       "      <th>concavity_mean</th>\n",
       "      <th>concave_points_mean</th>\n",
       "      <th>symmetry_mean</th>\n",
       "      <th>fractal_dimension_mean</th>\n",
       "      <th>...</th>\n",
       "      <th>radius_worst</th>\n",
       "      <th>texture_worst</th>\n",
       "      <th>perimeter_worst</th>\n",
       "      <th>area_worst</th>\n",
       "      <th>smoothness_worst</th>\n",
       "      <th>compactness_worst</th>\n",
       "      <th>concavity_worst</th>\n",
       "      <th>concave_points_worst</th>\n",
       "      <th>symmetry_worst</th>\n",
       "      <th>fractal_dimension_worst</th>\n",
       "    </tr>\n",
       "  </thead>\n",
       "  <tbody>\n",
       "    <tr>\n",
       "      <th>0</th>\n",
       "      <td>19.69</td>\n",
       "      <td>21.25</td>\n",
       "      <td>123.45</td>\n",
       "      <td>1203</td>\n",
       "      <td>0.1096</td>\n",
       "      <td>0.1599</td>\n",
       "      <td>0.0869</td>\n",
       "      <td>0.0372</td>\n",
       "      <td>0.205</td>\n",
       "      <td>0.063</td>\n",
       "      <td>...</td>\n",
       "      <td>25.38</td>\n",
       "      <td>30.37</td>\n",
       "      <td>184.6</td>\n",
       "      <td>2019</td>\n",
       "      <td>0.1636</td>\n",
       "      <td>0.3454</td>\n",
       "      <td>0.4</td>\n",
       "      <td>0.152</td>\n",
       "      <td>0.6638</td>\n",
       "      <td>0.1189</td>\n",
       "    </tr>\n",
       "  </tbody>\n",
       "</table>\n",
       "<p>1 rows × 30 columns</p>\n",
       "</div>"
      ],
      "text/plain": [
       "   radius_mean  texture_mean  perimeter_mean  area_mean  smoothness_mean  \\\n",
       "0        19.69         21.25          123.45       1203           0.1096   \n",
       "\n",
       "   compactness_mean  concavity_mean  concave_points_mean  symmetry_mean  \\\n",
       "0            0.1599          0.0869               0.0372          0.205   \n",
       "\n",
       "   fractal_dimension_mean  ...  radius_worst  texture_worst  perimeter_worst  \\\n",
       "0                   0.063  ...         25.38          30.37            184.6   \n",
       "\n",
       "   area_worst  smoothness_worst  compactness_worst  concavity_worst  \\\n",
       "0        2019            0.1636             0.3454              0.4   \n",
       "\n",
       "   concave_points_worst  symmetry_worst  fractal_dimension_worst  \n",
       "0                 0.152          0.6638                   0.1189  \n",
       "\n",
       "[1 rows x 30 columns]"
      ]
     },
     "execution_count": 8,
     "metadata": {},
     "output_type": "execute_result"
    }
   ],
   "source": [
    "df_bc = pd.DataFrame([data])\n",
    "df_bc"
   ]
  },
  {
   "cell_type": "code",
   "execution_count": 9,
   "metadata": {},
   "outputs": [],
   "source": [
    "# Scaling the input variables \n",
    "df_bc_scaled = scaler_variables.transform(df_bc)"
   ]
  },
  {
   "cell_type": "code",
   "execution_count": 10,
   "metadata": {},
   "outputs": [
    {
     "name": "stdout",
     "output_type": "stream",
     "text": [
      "1/1 [==============================] - 0s 88ms/step\n"
     ]
    },
    {
     "data": {
      "text/plain": [
       "array([[0.01870632]], dtype=float32)"
      ]
     },
     "execution_count": 10,
     "metadata": {},
     "output_type": "execute_result"
    }
   ],
   "source": [
    "# Breast cancer prection\n",
    "predic_bc = ann_mdl.predict(df_bc_scaled)\n",
    "predic_bc"
   ]
  },
  {
   "cell_type": "code",
   "execution_count": 11,
   "metadata": {},
   "outputs": [],
   "source": [
    "predic_proba = predic_bc[0][0]"
   ]
  },
  {
   "cell_type": "code",
   "execution_count": 12,
   "metadata": {},
   "outputs": [
    {
     "data": {
      "text/plain": [
       "0.018706318"
      ]
     },
     "execution_count": 12,
     "metadata": {},
     "output_type": "execute_result"
    }
   ],
   "source": [
    "predic_proba"
   ]
  },
  {
   "cell_type": "code",
   "execution_count": 14,
   "metadata": {},
   "outputs": [
    {
     "name": "stdout",
     "output_type": "stream",
     "text": [
      "This woman is not likely to breast cancer\n"
     ]
    }
   ],
   "source": [
    "# If the predicted probability is greater than 0.5, the model determines that \"This woman is likely to have breast cancer.\n",
    "# Otherwise, \"This woman is not likely to have breast cancer.\"\n",
    "if predic_proba > 0.5:\n",
    "    print('This woman is likely to breast cancer')\n",
    "else:\n",
    "    print('This woman is not likely to breast cancer')"
   ]
  }
 ],
 "metadata": {
  "kernelspec": {
   "display_name": "venv",
   "language": "python",
   "name": "python3"
  },
  "language_info": {
   "codemirror_mode": {
    "name": "ipython",
    "version": 3
   },
   "file_extension": ".py",
   "mimetype": "text/x-python",
   "name": "python",
   "nbconvert_exporter": "python",
   "pygments_lexer": "ipython3",
   "version": "3.11.4"
  }
 },
 "nbformat": 4,
 "nbformat_minor": 2
}
